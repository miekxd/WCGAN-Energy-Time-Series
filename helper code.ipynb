{
 "cells": [
  {
   "cell_type": "code",
   "execution_count": 1,
   "id": "e6a75fbe",
   "metadata": {
    "scrolled": true
   },
   "outputs": [
    {
     "name": "stdout",
     "output_type": "stream",
     "text": [
      "Requirement already satisfied: pip in /home/ec2-user/anaconda3/envs/pytorch_p310/lib/python3.10/site-packages (24.0)\n",
      "Requirement already satisfied: sagemaker in /home/ec2-user/anaconda3/envs/pytorch_p310/lib/python3.10/site-packages (2.215.0)\n",
      "Collecting sagemaker\n",
      "  Downloading sagemaker-2.216.0-py3-none-any.whl.metadata (14 kB)\n",
      "Requirement already satisfied: awscli in /home/ec2-user/anaconda3/envs/pytorch_p310/lib/python3.10/site-packages (1.32.83)\n",
      "Collecting awscli\n",
      "  Downloading awscli-1.32.87-py3-none-any.whl.metadata (11 kB)\n",
      "Requirement already satisfied: boto3 in /home/ec2-user/anaconda3/envs/pytorch_p310/lib/python3.10/site-packages (1.34.83)\n",
      "Collecting boto3\n",
      "  Downloading boto3-1.34.87-py3-none-any.whl.metadata (6.6 kB)\n",
      "Requirement already satisfied: numpy in /home/ec2-user/anaconda3/envs/pytorch_p310/lib/python3.10/site-packages (1.26.4)\n",
      "Requirement already satisfied: ipywidgets in /home/ec2-user/anaconda3/envs/pytorch_p310/lib/python3.10/site-packages (8.1.2)\n",
      "Requirement already satisfied: torch in /home/ec2-user/anaconda3/envs/pytorch_p310/lib/python3.10/site-packages (2.2.2)\n",
      "Requirement already satisfied: torchvision in /home/ec2-user/anaconda3/envs/pytorch_p310/lib/python3.10/site-packages (0.17.2)\n",
      "Requirement already satisfied: s3fs in /home/ec2-user/anaconda3/envs/pytorch_p310/lib/python3.10/site-packages (0.4.2)\n",
      "Collecting s3fs\n",
      "  Using cached s3fs-2024.3.1-py3-none-any.whl.metadata (1.6 kB)\n",
      "Requirement already satisfied: scikit-learn in /home/ec2-user/anaconda3/envs/pytorch_p310/lib/python3.10/site-packages (1.4.2)\n",
      "\u001b[31mERROR: Could not find a version that satisfies the requirement json (from versions: none)\u001b[0m\u001b[31m\n",
      "\u001b[0m\u001b[31mERROR: No matching distribution found for json\u001b[0m\u001b[31m\n",
      "\u001b[0mRequirement already satisfied: Pillow==7.1.2 in /home/ec2-user/anaconda3/envs/pytorch_p310/lib/python3.10/site-packages (7.1.2)\n"
     ]
    }
   ],
   "source": [
    "!pip install --upgrade pip -U sagemaker awscli boto3 numpy ipywidgets torch torchvision s3fs scikit-learn json\n",
    "!pip install Pillow==7.1.2"
   ]
  },
  {
   "cell_type": "code",
   "execution_count": 5,
   "id": "bb1121d8",
   "metadata": {},
   "outputs": [],
   "source": [
    "!mkdir -p data src output fakedata"
   ]
  },
  {
   "cell_type": "markdown",
   "id": "29f27442",
   "metadata": {},
   "source": [
    "## Create Session and Environment\n"
   ]
  },
  {
   "cell_type": "code",
   "execution_count": 1,
   "id": "ddb593b1",
   "metadata": {
    "scrolled": false
   },
   "outputs": [
    {
     "name": "stdout",
     "output_type": "stream",
     "text": [
      "sagemaker.config INFO - Not applying SDK defaults from location: /etc/xdg/sagemaker/config.yaml\n",
      "sagemaker.config INFO - Not applying SDK defaults from location: /home/ec2-user/.config/sagemaker/config.yaml\n",
      "s3://sagemaker-ap-southeast-1-220295937604/EnergyData/data\n"
     ]
    }
   ],
   "source": [
    "import os\n",
    "from sagemaker.s3 import S3Uploader as s3up\n",
    "from sagemaker.session import Session\n",
    "from sagemaker import get_execution_role\n",
    "\n",
    "sess = Session()\n",
    "\n",
    "# S3 bucket for saving code and model artifacts.\n",
    "# Feel free to specify a different bucket here if you wish.\n",
    "bucket = sess.default_bucket()\n",
    "prefix = \"EnergyData\"\n",
    "\n",
    "# Location to save your custom code in tar.gz format.\n",
    "s3_custom_code_upload_location = f\"s3://{bucket}/{prefix}/customcode\"\n",
    "\n",
    "checkpoint_s3_bucket=f\"s3://{bucket}/{prefix}/checkpoints\"\n",
    "checkpoint_local_path=\"/opt/ml/checkpoints\"\n",
    "\n",
    "# Location where results of model training are saved.\n",
    "s3_model_artifacts_location = f\"s3://{bucket}/{prefix}/artifacts/\"\n",
    "dataroot=\"/home/ec2-user/SageMaker/WCGAN-Energy-Time-Series/data\"\n",
    "s3_data_location = s3up.upload(\n",
    "    os.path.join(dataroot, \"EnergyData\"), f\"s3://{bucket}/{prefix}/data\"\n",
    ")\n",
    "\n",
    "print(s3_data_location)\n",
    "\n",
    "# IAM execution role that gives SageMaker access to resources in your AWS account.\n",
    "# We can use the SageMaker Python SDK to get the role from our notebook environment.\n",
    "role = get_execution_role()"
   ]
  },
  {
   "cell_type": "code",
   "execution_count": 2,
   "id": "4c7b77be",
   "metadata": {},
   "outputs": [
    {
     "name": "stdout",
     "output_type": "stream",
     "text": [
      "{\n",
      "    \"batch_size\": 256,\n",
      "    \"epochs\": 50000,\n",
      "    \"latent_dim\": 1464,\n",
      "    \"ts_dim\": 1464,\n",
      "    \"conditional\": 720,\n",
      "    \"lr_a\": 6e-05,\n",
      "    \"lr_b\": 0.0001\n",
      "}\n"
     ]
    }
   ],
   "source": [
    "import json\n",
    "\n",
    "hps = {\n",
    "    \"batch_size\": 256,\n",
    "    \"epochs\": 50000,\n",
    "    \"latent_dim\":1464, \n",
    "    \"ts_dim\": 1464,  \n",
    "    \"conditional\": 720, #month\n",
    "    \"lr_a\": 0.00006,\n",
    "    \"lr_b\": 0.00010,\n",
    "}\n",
    "\n",
    "\n",
    "str_hps = json.dumps(hps, indent=4)\n",
    "print(str_hps)"
   ]
  },
  {
   "cell_type": "code",
   "execution_count": 3,
   "id": "abdec4aa",
   "metadata": {},
   "outputs": [],
   "source": [
    "from sagemaker.pytorch import PyTorch\n",
    "import s3fs\n",
    "\n",
    "metric_definitions = [\n",
    "    {\n",
    "        \"Name\": \"RMSE\",\n",
    "        \"Regex\": \"RMSE: ([0-9\\\\.]+)\"\n",
    "    },\n",
    "    {\n",
    "        \"Name\": \"Discriminator Loss\",\n",
    "        \"Regex\": \"D_loss: ([0-9\\\\.]+)\"\n",
    "    },\n",
    "    {\n",
    "        \"Name\": \"Generator Loss\",\n",
    "        \"Regex\": \"G_loss: ([0-9\\\\.]+)\"\n",
    "    },\n",
    "    {\n",
    "        \"Name\": \"Gradient Penalty\",\n",
    "        \"Regex\": \"grad_pen: ([0-9\\\\.]+)\"\n",
    "    }\n",
    "]\n",
    "\n",
    "\n",
    "estimator = PyTorch(\n",
    "    model_data={'S3DataSource':{'S3Uri': s3_data_location,'S3DataType': 'S3Prefix','CompressionType': 'None'}},\n",
    "    role=role,\n",
    "    entry_point=\"main.py\",\n",
    "    source_dir=\"./src\",\n",
    "    output_path=s3_model_artifacts_location,\n",
    "    code_location=s3_custom_code_upload_location,\n",
    "    instance_count=1,\n",
    "    instance_type=\"ml.g4dn.16xlarge\",\n",
    "    framework_version=\"1.5.0\",\n",
    "    py_version=\"py3\",\n",
    "    use_spot_instances=True,\n",
    "    max_wait=180000,\n",
    "    max_run=150000,\n",
    "    input_mode='File',\n",
    "    base_job_name='WCGAN-DR',\n",
    "    disable_output_compression=True,\n",
    "    hyperparameters=hps,\n",
    "    image_uri='763104351884.dkr.ecr.ap-southeast-1.amazonaws.com/pytorch-training:1.5.0-gpu-py3',\n",
    "    metric_definitions=metric_definitions,\n",
    "    checkpoint_s3_uri=checkpoint_s3_bucket,\n",
    "    checkpoint_local_path=checkpoint_local_path,\n",
    "    debugger_hook_config=False\n",
    "    #early_stopping_type=\"Auto\"\n",
    ")\n"
   ]
  },
  {
   "cell_type": "markdown",
   "id": "bd84f0eb",
   "metadata": {},
   "source": [
    "## Initiate Training"
   ]
  },
  {
   "cell_type": "code",
   "execution_count": 4,
   "id": "d3e8bdea",
   "metadata": {
    "scrolled": true
   },
   "outputs": [
    {
     "name": "stderr",
     "output_type": "stream",
     "text": [
      "INFO:sagemaker:Creating training-job with name: WCGAN-DR-2024-05-08-03-21-08-291\n"
     ]
    },
    {
     "name": "stdout",
     "output_type": "stream",
     "text": [
      "2024-05-08 03:21:08 Starting - Starting the training job...\n",
      "2024-05-08 03:21:24 Starting - Preparing the instances for training...\n",
      "2024-05-08 03:22:02 Downloading - Downloading input data...\n",
      "2024-05-08 03:22:17 Downloading - Downloading the training image........\u001b[34mbash: cannot set terminal process group (-1): Inappropriate ioctl for device\u001b[0m\n",
      "\u001b[34mbash: no job control in this shell\u001b[0m\n",
      "\u001b[34m2024-05-08 03:23:44,602 sagemaker-training-toolkit INFO     Imported framework sagemaker_pytorch_container.training\u001b[0m\n",
      "\u001b[34m2024-05-08 03:23:44,634 sagemaker_pytorch_container.training INFO     Block until all host DNS lookups succeed.\u001b[0m\n",
      "\u001b[34m2024-05-08 03:23:44,636 sagemaker_pytorch_container.training INFO     Invoking user training script.\u001b[0m\n",
      "\u001b[34m2024-05-08 03:23:44,996 sagemaker-training-toolkit INFO     Invoking user script\u001b[0m\n",
      "\u001b[34mTraining Env:\u001b[0m\n",
      "\u001b[34m{\n",
      "    \"additional_framework_parameters\": {},\n",
      "    \"channel_input_dirs\": {\n",
      "        \"training\": \"/opt/ml/input/data/training\"\n",
      "    },\n",
      "    \"current_host\": \"algo-1\",\n",
      "    \"framework_module\": \"sagemaker_pytorch_container.training:main\",\n",
      "    \"hosts\": [\n",
      "        \"algo-1\"\n",
      "    ],\n",
      "    \"hyperparameters\": {\n",
      "        \"batch_size\": 256,\n",
      "        \"conditional\": 720,\n",
      "        \"epochs\": 50000,\n",
      "        \"latent_dim\": 1464,\n",
      "        \"lr_a\": 6e-05,\n",
      "        \"lr_b\": 0.0001,\n",
      "        \"ts_dim\": 1464\n",
      "    },\n",
      "    \"input_config_dir\": \"/opt/ml/input/config\",\n",
      "    \"input_data_config\": {\n",
      "        \"training\": {\n",
      "            \"TrainingInputMode\": \"File\",\n",
      "            \"S3DistributionType\": \"FullyReplicated\",\n",
      "            \"RecordWrapperType\": \"None\"\n",
      "        }\n",
      "    },\n",
      "    \"input_dir\": \"/opt/ml/input\",\n",
      "    \"is_master\": true,\n",
      "    \"job_name\": \"WCGAN-DR-2024-05-08-03-21-08-291\",\n",
      "    \"log_level\": 20,\n",
      "    \"master_hostname\": \"algo-1\",\n",
      "    \"model_dir\": \"/opt/ml/model\",\n",
      "    \"module_dir\": \"s3://sagemaker-ap-southeast-1-220295937604/EnergyData/customcode/WCGAN-DR-2024-05-08-03-21-08-291/source/sourcedir.tar.gz\",\n",
      "    \"module_name\": \"main\",\n",
      "    \"network_interface_name\": \"eth0\",\n",
      "    \"num_cpus\": 64,\n",
      "    \"num_gpus\": 1,\n",
      "    \"output_data_dir\": \"/opt/ml/output/data\",\n",
      "    \"output_dir\": \"/opt/ml/output\",\n",
      "    \"output_intermediate_dir\": \"/opt/ml/output/intermediate\",\n",
      "    \"resource_config\": {\n",
      "        \"current_host\": \"algo-1\",\n",
      "        \"current_instance_type\": \"ml.g4dn.16xlarge\",\n",
      "        \"current_group_name\": \"homogeneousCluster\",\n",
      "        \"hosts\": [\n",
      "            \"algo-1\"\n",
      "        ],\n",
      "        \"instance_groups\": [\n",
      "            {\n",
      "                \"instance_group_name\": \"homogeneousCluster\",\n",
      "                \"instance_type\": \"ml.g4dn.16xlarge\",\n",
      "                \"hosts\": [\n",
      "                    \"algo-1\"\n",
      "                ]\n",
      "            }\n",
      "        ],\n",
      "        \"network_interface_name\": \"eth0\"\n",
      "    },\n",
      "    \"user_entry_point\": \"main.py\"\u001b[0m\n",
      "\u001b[34m}\u001b[0m\n",
      "\u001b[34mEnvironment variables:\u001b[0m\n",
      "\u001b[34mSM_HOSTS=[\"algo-1\"]\u001b[0m\n",
      "\u001b[34mSM_NETWORK_INTERFACE_NAME=eth0\u001b[0m\n",
      "\u001b[34mSM_HPS={\"batch_size\":256,\"conditional\":720,\"epochs\":50000,\"latent_dim\":1464,\"lr_a\":6e-05,\"lr_b\":0.0001,\"ts_dim\":1464}\u001b[0m\n",
      "\u001b[34mSM_USER_ENTRY_POINT=main.py\u001b[0m\n",
      "\u001b[34mSM_FRAMEWORK_PARAMS={}\u001b[0m\n",
      "\u001b[34mSM_RESOURCE_CONFIG={\"current_group_name\":\"homogeneousCluster\",\"current_host\":\"algo-1\",\"current_instance_type\":\"ml.g4dn.16xlarge\",\"hosts\":[\"algo-1\"],\"instance_groups\":[{\"hosts\":[\"algo-1\"],\"instance_group_name\":\"homogeneousCluster\",\"instance_type\":\"ml.g4dn.16xlarge\"}],\"network_interface_name\":\"eth0\"}\u001b[0m\n",
      "\u001b[34mSM_INPUT_DATA_CONFIG={\"training\":{\"RecordWrapperType\":\"None\",\"S3DistributionType\":\"FullyReplicated\",\"TrainingInputMode\":\"File\"}}\u001b[0m\n",
      "\u001b[34mSM_OUTPUT_DATA_DIR=/opt/ml/output/data\u001b[0m\n",
      "\u001b[34mSM_CHANNELS=[\"training\"]\u001b[0m\n",
      "\u001b[34mSM_CURRENT_HOST=algo-1\u001b[0m\n",
      "\u001b[34mSM_MODULE_NAME=main\u001b[0m\n",
      "\u001b[34mSM_LOG_LEVEL=20\u001b[0m\n",
      "\u001b[34mSM_FRAMEWORK_MODULE=sagemaker_pytorch_container.training:main\u001b[0m\n",
      "\u001b[34mSM_INPUT_DIR=/opt/ml/input\u001b[0m\n",
      "\u001b[34mSM_INPUT_CONFIG_DIR=/opt/ml/input/config\u001b[0m\n",
      "\u001b[34mSM_OUTPUT_DIR=/opt/ml/output\u001b[0m\n",
      "\u001b[34mSM_NUM_CPUS=64\u001b[0m\n",
      "\u001b[34mSM_NUM_GPUS=1\u001b[0m\n",
      "\u001b[34mSM_MODEL_DIR=/opt/ml/model\u001b[0m\n",
      "\u001b[34mSM_MODULE_DIR=s3://sagemaker-ap-southeast-1-220295937604/EnergyData/customcode/WCGAN-DR-2024-05-08-03-21-08-291/source/sourcedir.tar.gz\u001b[0m\n",
      "\u001b[34mSM_TRAINING_ENV={\"additional_framework_parameters\":{},\"channel_input_dirs\":{\"training\":\"/opt/ml/input/data/training\"},\"current_host\":\"algo-1\",\"framework_module\":\"sagemaker_pytorch_container.training:main\",\"hosts\":[\"algo-1\"],\"hyperparameters\":{\"batch_size\":256,\"conditional\":720,\"epochs\":50000,\"latent_dim\":1464,\"lr_a\":6e-05,\"lr_b\":0.0001,\"ts_dim\":1464},\"input_config_dir\":\"/opt/ml/input/config\",\"input_data_config\":{\"training\":{\"RecordWrapperType\":\"None\",\"S3DistributionType\":\"FullyReplicated\",\"TrainingInputMode\":\"File\"}},\"input_dir\":\"/opt/ml/input\",\"is_master\":true,\"job_name\":\"WCGAN-DR-2024-05-08-03-21-08-291\",\"log_level\":20,\"master_hostname\":\"algo-1\",\"model_dir\":\"/opt/ml/model\",\"module_dir\":\"s3://sagemaker-ap-southeast-1-220295937604/EnergyData/customcode/WCGAN-DR-2024-05-08-03-21-08-291/source/sourcedir.tar.gz\",\"module_name\":\"main\",\"network_interface_name\":\"eth0\",\"num_cpus\":64,\"num_gpus\":1,\"output_data_dir\":\"/opt/ml/output/data\",\"output_dir\":\"/opt/ml/output\",\"output_intermediate_dir\":\"/opt/ml/output/intermediate\",\"resource_config\":{\"current_group_name\":\"homogeneousCluster\",\"current_host\":\"algo-1\",\"current_instance_type\":\"ml.g4dn.16xlarge\",\"hosts\":[\"algo-1\"],\"instance_groups\":[{\"hosts\":[\"algo-1\"],\"instance_group_name\":\"homogeneousCluster\",\"instance_type\":\"ml.g4dn.16xlarge\"}],\"network_interface_name\":\"eth0\"},\"user_entry_point\":\"main.py\"}\u001b[0m\n",
      "\u001b[34mSM_USER_ARGS=[\"--batch_size\",\"256\",\"--conditional\",\"720\",\"--epochs\",\"50000\",\"--latent_dim\",\"1464\",\"--lr_a\",\"6e-05\",\"--lr_b\",\"0.0001\",\"--ts_dim\",\"1464\"]\u001b[0m\n",
      "\u001b[34mSM_OUTPUT_INTERMEDIATE_DIR=/opt/ml/output/intermediate\u001b[0m\n",
      "\u001b[34mSM_CHANNEL_TRAINING=/opt/ml/input/data/training\u001b[0m\n",
      "\u001b[34mSM_HP_BATCH_SIZE=256\u001b[0m\n",
      "\u001b[34mSM_HP_CONDITIONAL=720\u001b[0m\n",
      "\u001b[34mSM_HP_EPOCHS=50000\u001b[0m\n",
      "\u001b[34mSM_HP_LATENT_DIM=1464\u001b[0m\n",
      "\u001b[34mSM_HP_LR_A=6e-05\u001b[0m\n",
      "\u001b[34mSM_HP_LR_B=0.0001\u001b[0m\n",
      "\u001b[34mSM_HP_TS_DIM=1464\u001b[0m\n",
      "\u001b[34mPYTHONPATH=/opt/ml/code:/opt/conda/bin:/opt/conda/lib/python36.zip:/opt/conda/lib/python3.6:/opt/conda/lib/python3.6/lib-dynload:/opt/conda/lib/python3.6/site-packages\u001b[0m\n",
      "\u001b[34mInvoking script with the following command:\u001b[0m\n",
      "\u001b[34m/opt/conda/bin/python3.6 main.py --batch_size 256 --conditional 720 --epochs 50000 --latent_dim 1464 --lr_a 6e-05 --lr_b 0.0001 --ts_dim 1464\u001b[0m\n",
      "\u001b[34mS3 Bucket: sagemaker-ap-southeast-1-220295937604\u001b[0m\n",
      "\u001b[34mSyncing files from s3://sagemaker-ap-southeast-1-220295937604/EnergyData/customcode/WCGAN-DR-2024-05-08-03-21-08-291/checkpoints to /opt/ml/checkpoints\u001b[0m\n",
      "\u001b[34mTime Taken to Sync:  0.5626587867736816\u001b[0m\n",
      "\u001b[34mTrue\u001b[0m\n",
      "\u001b[34m[]\u001b[0m\n",
      "\u001b[34m(14592, 4)\u001b[0m\n",
      "\n",
      "2024-05-08 03:23:43 Training - Training image download completed. Training in progress.\u001b[34mEnergy_return_aug shape:  (3283, 1464)\u001b[0m\n",
      "\u001b[34mTraining starts ...\u001b[0m\n",
      "\u001b[34mEpoch: 99, RMSE: 19.562744140625, Energy RMSE: 19.148193359375, G_loss: 41943.7890625, D_loss: 398.9140625 \u001b[0m\n"
     ]
    },
    {
     "ename": "KeyboardInterrupt",
     "evalue": "",
     "output_type": "error",
     "traceback": [
      "\u001b[0;31m---------------------------------------------------------------------------\u001b[0m",
      "\u001b[0;31mKeyboardInterrupt\u001b[0m                         Traceback (most recent call last)",
      "File \u001b[0;32m<timed exec>:6\u001b[0m\n",
      "File \u001b[0;32m~/anaconda3/envs/pytorch_p310/lib/python3.10/site-packages/sagemaker/workflow/pipeline_context.py:346\u001b[0m, in \u001b[0;36mrunnable_by_pipeline.<locals>.wrapper\u001b[0;34m(*args, **kwargs)\u001b[0m\n\u001b[1;32m    342\u001b[0m         \u001b[38;5;28;01mreturn\u001b[39;00m context\n\u001b[1;32m    344\u001b[0m     \u001b[38;5;28;01mreturn\u001b[39;00m _StepArguments(retrieve_caller_name(self_instance), run_func, \u001b[38;5;241m*\u001b[39margs, \u001b[38;5;241m*\u001b[39m\u001b[38;5;241m*\u001b[39mkwargs)\n\u001b[0;32m--> 346\u001b[0m \u001b[38;5;28;01mreturn\u001b[39;00m \u001b[43mrun_func\u001b[49m\u001b[43m(\u001b[49m\u001b[38;5;241;43m*\u001b[39;49m\u001b[43margs\u001b[49m\u001b[43m,\u001b[49m\u001b[43m \u001b[49m\u001b[38;5;241;43m*\u001b[39;49m\u001b[38;5;241;43m*\u001b[39;49m\u001b[43mkwargs\u001b[49m\u001b[43m)\u001b[49m\n",
      "File \u001b[0;32m~/anaconda3/envs/pytorch_p310/lib/python3.10/site-packages/sagemaker/estimator.py:1346\u001b[0m, in \u001b[0;36mEstimatorBase.fit\u001b[0;34m(self, inputs, wait, logs, job_name, experiment_config)\u001b[0m\n\u001b[1;32m   1344\u001b[0m \u001b[38;5;28mself\u001b[39m\u001b[38;5;241m.\u001b[39mjobs\u001b[38;5;241m.\u001b[39mappend(\u001b[38;5;28mself\u001b[39m\u001b[38;5;241m.\u001b[39mlatest_training_job)\n\u001b[1;32m   1345\u001b[0m \u001b[38;5;28;01mif\u001b[39;00m wait:\n\u001b[0;32m-> 1346\u001b[0m     \u001b[38;5;28;43mself\u001b[39;49m\u001b[38;5;241;43m.\u001b[39;49m\u001b[43mlatest_training_job\u001b[49m\u001b[38;5;241;43m.\u001b[39;49m\u001b[43mwait\u001b[49m\u001b[43m(\u001b[49m\u001b[43mlogs\u001b[49m\u001b[38;5;241;43m=\u001b[39;49m\u001b[43mlogs\u001b[49m\u001b[43m)\u001b[49m\n",
      "File \u001b[0;32m~/anaconda3/envs/pytorch_p310/lib/python3.10/site-packages/sagemaker/estimator.py:2703\u001b[0m, in \u001b[0;36m_TrainingJob.wait\u001b[0;34m(self, logs)\u001b[0m\n\u001b[1;32m   2701\u001b[0m \u001b[38;5;66;03m# If logs are requested, call logs_for_jobs.\u001b[39;00m\n\u001b[1;32m   2702\u001b[0m \u001b[38;5;28;01mif\u001b[39;00m logs \u001b[38;5;241m!=\u001b[39m \u001b[38;5;124m\"\u001b[39m\u001b[38;5;124mNone\u001b[39m\u001b[38;5;124m\"\u001b[39m:\n\u001b[0;32m-> 2703\u001b[0m     \u001b[38;5;28;43mself\u001b[39;49m\u001b[38;5;241;43m.\u001b[39;49m\u001b[43msagemaker_session\u001b[49m\u001b[38;5;241;43m.\u001b[39;49m\u001b[43mlogs_for_job\u001b[49m\u001b[43m(\u001b[49m\u001b[38;5;28;43mself\u001b[39;49m\u001b[38;5;241;43m.\u001b[39;49m\u001b[43mjob_name\u001b[49m\u001b[43m,\u001b[49m\u001b[43m \u001b[49m\u001b[43mwait\u001b[49m\u001b[38;5;241;43m=\u001b[39;49m\u001b[38;5;28;43;01mTrue\u001b[39;49;00m\u001b[43m,\u001b[49m\u001b[43m \u001b[49m\u001b[43mlog_type\u001b[49m\u001b[38;5;241;43m=\u001b[39;49m\u001b[43mlogs\u001b[49m\u001b[43m)\u001b[49m\n\u001b[1;32m   2704\u001b[0m \u001b[38;5;28;01melse\u001b[39;00m:\n\u001b[1;32m   2705\u001b[0m     \u001b[38;5;28mself\u001b[39m\u001b[38;5;241m.\u001b[39msagemaker_session\u001b[38;5;241m.\u001b[39mwait_for_job(\u001b[38;5;28mself\u001b[39m\u001b[38;5;241m.\u001b[39mjob_name)\n",
      "File \u001b[0;32m~/anaconda3/envs/pytorch_p310/lib/python3.10/site-packages/sagemaker/session.py:5784\u001b[0m, in \u001b[0;36mSession.logs_for_job\u001b[0;34m(self, job_name, wait, poll, log_type, timeout)\u001b[0m\n\u001b[1;32m   5763\u001b[0m \u001b[38;5;28;01mdef\u001b[39;00m \u001b[38;5;21mlogs_for_job\u001b[39m(\u001b[38;5;28mself\u001b[39m, job_name, wait\u001b[38;5;241m=\u001b[39m\u001b[38;5;28;01mFalse\u001b[39;00m, poll\u001b[38;5;241m=\u001b[39m\u001b[38;5;241m10\u001b[39m, log_type\u001b[38;5;241m=\u001b[39m\u001b[38;5;124m\"\u001b[39m\u001b[38;5;124mAll\u001b[39m\u001b[38;5;124m\"\u001b[39m, timeout\u001b[38;5;241m=\u001b[39m\u001b[38;5;28;01mNone\u001b[39;00m):\n\u001b[1;32m   5764\u001b[0m \u001b[38;5;250m    \u001b[39m\u001b[38;5;124;03m\"\"\"Display logs for a given training job, optionally tailing them until job is complete.\u001b[39;00m\n\u001b[1;32m   5765\u001b[0m \n\u001b[1;32m   5766\u001b[0m \u001b[38;5;124;03m    If the output is a tty or a Jupyter cell, it will be color-coded\u001b[39;00m\n\u001b[0;32m   (...)\u001b[0m\n\u001b[1;32m   5782\u001b[0m \u001b[38;5;124;03m        exceptions.UnexpectedStatusException: If waiting and the training job fails.\u001b[39;00m\n\u001b[1;32m   5783\u001b[0m \u001b[38;5;124;03m    \"\"\"\u001b[39;00m\n\u001b[0;32m-> 5784\u001b[0m     \u001b[43m_logs_for_job\u001b[49m\u001b[43m(\u001b[49m\u001b[38;5;28;43mself\u001b[39;49m\u001b[43m,\u001b[49m\u001b[43m \u001b[49m\u001b[43mjob_name\u001b[49m\u001b[43m,\u001b[49m\u001b[43m \u001b[49m\u001b[43mwait\u001b[49m\u001b[43m,\u001b[49m\u001b[43m \u001b[49m\u001b[43mpoll\u001b[49m\u001b[43m,\u001b[49m\u001b[43m \u001b[49m\u001b[43mlog_type\u001b[49m\u001b[43m,\u001b[49m\u001b[43m \u001b[49m\u001b[43mtimeout\u001b[49m\u001b[43m)\u001b[49m\n",
      "File \u001b[0;32m~/anaconda3/envs/pytorch_p310/lib/python3.10/site-packages/sagemaker/session.py:7963\u001b[0m, in \u001b[0;36m_logs_for_job\u001b[0;34m(sagemaker_session, job_name, wait, poll, log_type, timeout)\u001b[0m\n\u001b[1;32m   7960\u001b[0m \u001b[38;5;28;01mif\u001b[39;00m state \u001b[38;5;241m==\u001b[39m LogState\u001b[38;5;241m.\u001b[39mCOMPLETE:\n\u001b[1;32m   7961\u001b[0m     \u001b[38;5;28;01mbreak\u001b[39;00m\n\u001b[0;32m-> 7963\u001b[0m \u001b[43mtime\u001b[49m\u001b[38;5;241;43m.\u001b[39;49m\u001b[43msleep\u001b[49m\u001b[43m(\u001b[49m\u001b[43mpoll\u001b[49m\u001b[43m)\u001b[49m\n\u001b[1;32m   7965\u001b[0m \u001b[38;5;28;01mif\u001b[39;00m state \u001b[38;5;241m==\u001b[39m LogState\u001b[38;5;241m.\u001b[39mJOB_COMPLETE:\n\u001b[1;32m   7966\u001b[0m     state \u001b[38;5;241m=\u001b[39m LogState\u001b[38;5;241m.\u001b[39mCOMPLETE\n",
      "\u001b[0;31mKeyboardInterrupt\u001b[0m: "
     ]
    }
   ],
   "source": [
    "%%time\n",
    "import s3fs\n",
    "# Start training\n",
    "from sagemaker.inputs import TrainingInput\n",
    "import sagemaker.utils\n",
    "\n",
    "estimator.fit(\n",
    "    inputs=TrainingInput(s3_data=s3_data_location))"
   ]
  },
  {
   "cell_type": "code",
   "execution_count": 12,
   "id": "569120cb",
   "metadata": {
    "scrolled": true
   },
   "outputs": [
    {
     "name": "stderr",
     "output_type": "stream",
     "text": [
      "INFO:sagemaker:Nothing to download from bucket: sagemaker-ap-southeast-1-220295937604, key_prefix: EnergyData/artifacts/WCGAN-DR-2024-05-02-01-33-04-883/output/model/.\n"
     ]
    },
    {
     "name": "stdout",
     "output_type": "stream",
     "text": [
      "s3://sagemaker-ap-southeast-1-220295937604/EnergyData/artifacts/WCGAN-DR-2024-05-02-01-33-04-883/output/\n"
     ]
    },
    {
     "data": {
      "text/plain": [
       "['./output/256-100000-1464-1464-720-6e-05-0.0001/GP.png',\n",
       " './output/256-100000-1464-1464-720-6e-05-0.0001/LR_.png',\n",
       " './output/256-100000-1464-1464-720-6e-05-0.0001/Loss_0.png',\n",
       " './output/256-100000-1464-1464-720-6e-05-0.0001/Loss_1.png',\n",
       " './output/256-100000-1464-1464-720-6e-05-0.0001/Loss_2.png',\n",
       " './output/256-100000-1464-1464-720-6e-05-0.0001/Loss_3.png',\n",
       " './output/256-100000-1464-1464-720-6e-05-0.0001/Loss_4.png',\n",
       " './output/256-100000-1464-1464-720-6e-05-0.0001/Loss_5.png',\n",
       " './output/256-100000-1464-1464-720-6e-05-0.0001/Loss_6.png',\n",
       " './output/256-100000-1464-1464-720-6e-05-0.0001/Loss_7.png',\n",
       " './output/256-100000-1464-1464-720-6e-05-0.0001/Loss_8.png',\n",
       " './output/256-100000-1464-1464-720-6e-05-0.0001/Loss_9.png',\n",
       " './output/256-100000-1464-1464-720-6e-05-0.0001/dis.pth',\n",
       " './output/256-100000-1464-1464-720-6e-05-0.0001/gen.pth',\n",
       " './output/256-100000-1464-1464-720-6e-05-0.0001/line_generation/Iteration_91999.png',\n",
       " './output/256-100000-1464-1464-720-6e-05-0.0001/line_generation/Iteration_92999.png',\n",
       " './output/256-100000-1464-1464-720-6e-05-0.0001/line_generation/Iteration_93999.png',\n",
       " './output/256-100000-1464-1464-720-6e-05-0.0001/line_generation/Iteration_94999.png',\n",
       " './output/256-100000-1464-1464-720-6e-05-0.0001/line_generation/Iteration_95999.png',\n",
       " './output/256-100000-1464-1464-720-6e-05-0.0001/line_generation/Iteration_96999.png',\n",
       " './output/256-100000-1464-1464-720-6e-05-0.0001/line_generation/Iteration_97999.png',\n",
       " './output/256-100000-1464-1464-720-6e-05-0.0001/line_generation/Iteration_98999.png',\n",
       " './output/256-100000-1464-1464-720-6e-05-0.0001/line_generation/Iteration_99999.png',\n",
       " './output/256-100000-1464-1464-720-6e-05-0.0001/losses.txt']"
      ]
     },
     "execution_count": 12,
     "metadata": {},
     "output_type": "execute_result"
    }
   ],
   "source": [
    "## %%time\n",
    "from sagemaker.estimator import Estimator\n",
    "from sagemaker.s3 import S3Downloader as s3down\n",
    "\n",
    "# Attaching previous training session\n",
    "training_job_name = estimator.latest_training_job.name\n",
    "\n",
    "#training_job_name = 'WCGAN-DR-2024-03-28-04-47-29-058'\n",
    "path = \"s3://sagemaker-ap-southeast-1-220295937604/EnergyData/artifacts/\"+str(training_job_name)+\"/output/\"\n",
    "print(path)\n",
    "\n",
    "s3down.download(path+\"model/\",\"./tmp\")\n",
    "s3down.download(path+\"output/\",\"./output\")\n",
    "\n"
   ]
  },
  {
   "cell_type": "markdown",
   "id": "d0878977",
   "metadata": {},
   "source": [
    "## Hyperparameter Tuning"
   ]
  },
  {
   "cell_type": "code",
   "execution_count": 6,
   "id": "c6a5ca16",
   "metadata": {},
   "outputs": [],
   "source": [
    "from sagemaker.tuner import IntegerParameter, ContinuousParameter, HyperparameterTuner\n",
    "\n",
    "hpt_ranges = {\n",
    "    'lr_a': ContinuousParameter(0.00001, 0.0001),\n",
    "    'lr_b': ContinuousParameter(0.00001, 0.0001),\n",
    "    'latent_dim': IntegerParameter(12, 168),\n",
    "    'ts_dim': IntegerParameter(168,336),\n",
    "    'conditional': IntegerParameter(12, 24),\n",
    "    'batch_size': IntegerParameter(128, 256)\n",
    "}"
   ]
  },
  {
   "cell_type": "code",
   "execution_count": 7,
   "id": "7ad28f4f",
   "metadata": {},
   "outputs": [],
   "source": [
    "objective_metric_name = \"Generator Loss\"\n",
    "objective_type = \"Minimize\"\n"
   ]
  },
  {
   "cell_type": "code",
   "execution_count": null,
   "id": "fc0e3c1e",
   "metadata": {},
   "outputs": [
    {
     "name": "stderr",
     "output_type": "stream",
     "text": [
      "No finished training job found associated with this estimator. Please make sure this estimator is only used for building workflow config\n",
      "No finished training job found associated with this estimator. Please make sure this estimator is only used for building workflow config\n"
     ]
    },
    {
     "name": "stdout",
     "output_type": "stream",
     "text": [
      "..............................................................................................................................................................................................................................................................................................................................................................................................................................................................................................................................................................................................................................................................................................................................................................................................................................................................................................................................................................................................................................................................................................................................................................................................................................................................................................................................................................................................................................................................................................................................................................................................................................................................................................................................................................................................................................................................................................................................................................................................................................................................................................................................................................................................................................................................................................................................................................................................................................................................................................................................................................................................................................................................................................................................................................................................................................................................................................................................................................................................................................................................................................................................................................................................................................................................................................................................................................................................................................................................................................................................................................................................................................................................................................................................................................................................................................................................................................................................................................................................................................................................................................................................................................................................................................................................................................................................................................................................................................................................................................................................................................................................................................................................................................................................................................................................................................................................................................................................................................................................................................................................................................................................................................................................................................................................................................................................................................................................................................................................................................................................................................................................................................................................................................................................................................................................................................................................................................................................."
     ]
    }
   ],
   "source": [
    "%%time\n",
    "\n",
    "import s3fs\n",
    "# Start training\n",
    "from sagemaker.inputs import TrainingInput\n",
    "\n",
    "tuner = HyperparameterTuner(\n",
    "    estimator=estimator,\n",
    "    objective_metric_name=objective_metric_name,\n",
    "    hyperparameter_ranges=hpt_ranges,\n",
    "    metric_definitions=metric_definitions,\n",
    "    max_jobs=20,\n",
    "    max_parallel_jobs=1,\n",
    "    objective_type=objective_type\n",
    ")\n",
    "tuner.fit(inputs=TrainingInput(s3_data=s3_data_location))"
   ]
  },
  {
   "cell_type": "code",
   "execution_count": 63,
   "id": "8b3c9673",
   "metadata": {},
   "outputs": [
    {
     "name": "stdout",
     "output_type": "stream",
     "text": [
      "Image URI: 763104351884.dkr.ecr.ap-southeast-1.amazonaws.com/pytorch-training:1.5.0-gpu-py3\n"
     ]
    }
   ],
   "source": [
    "import boto3\n",
    "\n",
    "# Initialize the SageMaker client\n",
    "sagemaker_client = boto3.client('sagemaker')\n",
    "\n",
    "# Replace 'training_job_name' with the name of your training job\n",
    "training_job_name = 'WGAN-financial-2024-02-15-05-01-10-308'\n",
    "\n",
    "# Retrieve the training job description\n",
    "response = sagemaker_client.describe_training_job(TrainingJobName=training_job_name)\n",
    "\n",
    "# Extract the image URI from the training job description\n",
    "image_uri = response['AlgorithmSpecification']['TrainingImage']\n",
    "\n",
    "print(\"Image URI:\", image_uri)\n"
   ]
  },
  {
   "cell_type": "code",
   "execution_count": null,
   "id": "aede0dd0",
   "metadata": {},
   "outputs": [],
   "source": []
  }
 ],
 "metadata": {
  "kernelspec": {
   "display_name": "conda_pytorch_p310",
   "language": "python",
   "name": "conda_pytorch_p310"
  },
  "language_info": {
   "codemirror_mode": {
    "name": "ipython",
    "version": 3
   },
   "file_extension": ".py",
   "mimetype": "text/x-python",
   "name": "python",
   "nbconvert_exporter": "python",
   "pygments_lexer": "ipython3",
   "version": "3.10.14"
  }
 },
 "nbformat": 4,
 "nbformat_minor": 5
}
